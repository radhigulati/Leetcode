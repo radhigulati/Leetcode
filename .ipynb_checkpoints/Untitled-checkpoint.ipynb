{
 "cells": [
  {
   "cell_type": "code",
   "execution_count": 1,
   "metadata": {
    "collapsed": true
   },
   "outputs": [],
   "source": [
    "def pair_sum(arr,k):\n",
    "\n",
    "    if len(arr)<2:\n",
    "        return\n",
    "\n",
    "    # Sets for tracking\n",
    "    #seen = set()\n",
    "    seen = []\n",
    "    #output = set()\n",
    "    output = []\n",
    "    #output = set()\n",
    "\n",
    "    # For every number in array\n",
    "    for num in arr:\n",
    "\n",
    "        # Set target difference\n",
    "        target = k-num\n",
    "\n",
    "        # Add it to set if target hasn't been seen\n",
    "        if target not in seen:\n",
    "            seen.append(num)\n",
    "\n",
    "        else:\n",
    "            # Add a tuple with the corresponding pair\n",
    "            output.append(target)\n",
    "            output.append(num)\n",
    "\n",
    "    return output"
   ]
  },
  {
   "cell_type": "code",
   "execution_count": null,
   "metadata": {
    "collapsed": true
   },
   "outputs": [],
   "source": []
  }
 ],
 "metadata": {
  "kernelspec": {
   "display_name": "Python [Root]",
   "language": "python",
   "name": "Python [Root]"
  },
  "language_info": {
   "codemirror_mode": {
    "name": "ipython",
    "version": 3
   },
   "file_extension": ".py",
   "mimetype": "text/x-python",
   "name": "python",
   "nbconvert_exporter": "python",
   "pygments_lexer": "ipython3",
   "version": "3.5.2"
  }
 },
 "nbformat": 4,
 "nbformat_minor": 0
}
